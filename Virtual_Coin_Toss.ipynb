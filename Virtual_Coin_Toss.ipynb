{
 "cells": [
  {
   "cell_type": "code",
   "execution_count": 3,
   "id": "fa26352f-0962-4055-bffd-2809f23bcf6a",
   "metadata": {},
   "outputs": [
    {
     "name": "stdout",
     "output_type": "stream",
     "text": [
      "🎲 Welcome to the Virtual Coin Toss Game! 🎲\n"
     ]
    },
    {
     "name": "stdin",
     "output_type": "stream",
     "text": [
      "How many times do you want to flip the coin?  10\n"
     ]
    },
    {
     "name": "stdout",
     "output_type": "stream",
     "text": [
      "Toss Result: Heads\n",
      "Toss Result: Heads\n",
      "Toss Result: Heads\n",
      "Toss Result: Tails\n",
      "Toss Result: Tails\n",
      "Toss Result: Tails\n",
      "Toss Result: Heads\n",
      "Toss Result: Tails\n",
      "Toss Result: Heads\n",
      "Toss Result: Tails\n",
      "\n",
      "📊 Final Results:\n",
      "Heads: 5 times\n",
      "Tails: 5 times\n"
     ]
    }
   ],
   "source": [
    "import random\n",
    "\n",
    "def flip_coin():\n",
    "    \"\"\"Simulates a coin flip and returns 'Heads' or 'Tails'.\"\"\"\n",
    "    return random.choice([\"Heads\", \"Tails\"])\n",
    "\n",
    "# Welcome message\n",
    "print(\"🎲 Welcome to the Virtual Coin Toss Game! 🎲\")\n",
    "\n",
    "# Ask the user how many times to flip the coin\n",
    "num_flips = int(input(\"How many times do you want to flip the coin? \"))\n",
    "\n",
    "# Count results\n",
    "heads_count = 0\n",
    "tails_count = 0\n",
    "\n",
    "# Flip the coin multiple times\n",
    "for _ in range(num_flips):\n",
    "    result = flip_coin()\n",
    "    print(f\"Toss Result: {result}\")\n",
    "    if result == \"Heads\":\n",
    "        heads_count += 1\n",
    "    else:\n",
    "        tails_count += 1\n",
    "\n",
    "# Show final results\n",
    "print(\"\\n📊 Final Results:\")\n",
    "print(f\"Heads: {heads_count} times\")\n",
    "print(f\"Tails: {tails_count} times\")\n"
   ]
  },
  {
   "cell_type": "code",
   "execution_count": null,
   "id": "b5f452ac-8eb0-436d-bed2-418fec45fa58",
   "metadata": {},
   "outputs": [],
   "source": []
  }
 ],
 "metadata": {
  "kernelspec": {
   "display_name": "Python 3 (ipykernel)",
   "language": "python",
   "name": "python3"
  },
  "language_info": {
   "codemirror_mode": {
    "name": "ipython",
    "version": 3
   },
   "file_extension": ".py",
   "mimetype": "text/x-python",
   "name": "python",
   "nbconvert_exporter": "python",
   "pygments_lexer": "ipython3",
   "version": "3.12.4"
  }
 },
 "nbformat": 4,
 "nbformat_minor": 5
}
